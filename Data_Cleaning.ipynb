{
 "cells": [
  {
   "cell_type": "code",
   "execution_count": 3,
   "id": "87ec5446",
   "metadata": {},
   "outputs": [
    {
     "name": "stdout",
     "output_type": "stream",
     "text": [
      "0     Namjoon\n",
      "1     seokjin\n",
      "2      yoongi\n",
      "3      hoseok\n",
      "4       jimin\n",
      "5    taehyung\n",
      "6    jungkook\n",
      "dtype: object\n"
     ]
    },
    {
     "data": {
      "text/plain": [
       "0    False\n",
       "1    False\n",
       "2    False\n",
       "3    False\n",
       "4    False\n",
       "5    False\n",
       "6    False\n",
       "dtype: bool"
      ]
     },
     "execution_count": 3,
     "metadata": {},
     "output_type": "execute_result"
    }
   ],
   "source": [
    "import pandas as pd\n",
    "import numpy as np\n",
    "names = pd.Series(['Namjoon','seokjin','yoongi','hoseok','jimin','taehyung','jungkook'])\n",
    "print(names)\n",
    "names.isnull()"
   ]
  },
  {
   "cell_type": "code",
   "execution_count": 18,
   "id": "94f6eded",
   "metadata": {},
   "outputs": [
    {
     "name": "stdout",
     "output_type": "stream",
     "text": [
      "0     True\n",
      "1    False\n",
      "2     True\n",
      "dtype: bool\n",
      "None\n"
     ]
    },
    {
     "data": {
      "text/plain": [
       "1    1.0\n",
       "dtype: float64"
      ]
     },
     "execution_count": 18,
     "metadata": {},
     "output_type": "execute_result"
    }
   ],
   "source": [
    "from numpy import nan\n",
    "data = pd.Series([nan,1,nan])\n",
    "print(data.isnull())\n",
    "print(data.dropna(inplace=True))\n",
    "data"
   ]
  },
  {
   "cell_type": "code",
   "execution_count": 32,
   "id": "53735af5",
   "metadata": {},
   "outputs": [
    {
     "name": "stdout",
     "output_type": "stream",
     "text": [
      "     0    1    2\n",
      "0  1.0  NaN  0.0\n",
      "1  NaN  NaN  NaN\n",
      "2  0.0  0.0  1.0\n",
      "\n",
      "       0      1      2\n",
      "0  False   True  False\n",
      "1   True   True   True\n",
      "2  False  False  False\n",
      "\n",
      "     0    1    2\n",
      "0  1.0  NaN  0.0\n",
      "2  0.0  0.0  1.0\n",
      "\n",
      "     0    1    2\n",
      "2  0.0  0.0  1.0\n",
      "\n",
      "     0    1    2\n",
      "0  1.0  NaN  0.0\n",
      "1  NaN  NaN  NaN\n",
      "2  0.0  0.0  1.0\n"
     ]
    }
   ],
   "source": [
    "data = pd.DataFrame([[1,nan,0],\n",
    "       [nan,nan,nan],\n",
    "       [0,0,1]])\n",
    "print(data)\n",
    "print()\n",
    "print(data.isnull())\n",
    "print()\n",
    "print(data.dropna(how='all'))\n",
    "print()\n",
    "print(data.dropna(how='any'))\n",
    "print()\n",
    "print(data.dropna(how='all',axis=1))"
   ]
  },
  {
   "cell_type": "code",
   "execution_count": 36,
   "id": "8b20790a",
   "metadata": {},
   "outputs": [
    {
     "name": "stdout",
     "output_type": "stream",
     "text": [
      "    name  Collab\n",
      "0  False   False\n",
      "1  False   False\n",
      "2  False   False\n",
      "3  False   False\n",
      "4  False    True\n",
      "5  False    True\n",
      "6  False   False\n",
      "\n",
      "       name     Collab\n",
      "0        RM    Youjeen\n",
      "1       Jin  Cold play\n",
      "2      Suga        PSY\n",
      "3     Jhope      Crush\n",
      "6  Jungkook      Fahad\n"
     ]
    }
   ],
   "source": [
    "data={'name':['RM','Jin','Suga','Jhope','Jimin','V','Jungkook'],\n",
    "     'Collab':['Youjeen','Cold play','PSY','Crush',nan,nan,'Fahad']}\n",
    "df=pd.DataFrame(data)\n",
    "df\n",
    "print(df.isnull())\n",
    "print()\n",
    "print(df.dropna())"
   ]
  },
  {
   "cell_type": "code",
   "execution_count": 41,
   "id": "93083e7e",
   "metadata": {},
   "outputs": [
    {
     "name": "stdout",
     "output_type": "stream",
     "text": [
      "       name       Collab\n",
      "0        RM      Youjeen\n",
      "1       Jin    Cold play\n",
      "2      Suga          PSY\n",
      "3     Jhope        Crush\n",
      "4     Jimin  Coming soon\n",
      "5         V  Coming soon\n",
      "6  Jungkook        Fahad\n"
     ]
    }
   ],
   "source": [
    "print(df.fillna('Coming soon'))"
   ]
  },
  {
   "cell_type": "code",
   "execution_count": 50,
   "id": "da73fe3a",
   "metadata": {},
   "outputs": [
    {
     "data": {
      "text/html": [
       "<div>\n",
       "<style scoped>\n",
       "    .dataframe tbody tr th:only-of-type {\n",
       "        vertical-align: middle;\n",
       "    }\n",
       "\n",
       "    .dataframe tbody tr th {\n",
       "        vertical-align: top;\n",
       "    }\n",
       "\n",
       "    .dataframe thead th {\n",
       "        text-align: right;\n",
       "    }\n",
       "</style>\n",
       "<table border=\"1\" class=\"dataframe\">\n",
       "  <thead>\n",
       "    <tr style=\"text-align: right;\">\n",
       "      <th></th>\n",
       "      <th>name</th>\n",
       "      <th>Collab</th>\n",
       "    </tr>\n",
       "  </thead>\n",
       "  <tbody>\n",
       "    <tr>\n",
       "      <th>0</th>\n",
       "      <td>RM</td>\n",
       "      <td>Youjeen</td>\n",
       "    </tr>\n",
       "    <tr>\n",
       "      <th>1</th>\n",
       "      <td>Jin</td>\n",
       "      <td>Cold play</td>\n",
       "    </tr>\n",
       "    <tr>\n",
       "      <th>2</th>\n",
       "      <td>Suga</td>\n",
       "      <td>PSY</td>\n",
       "    </tr>\n",
       "    <tr>\n",
       "      <th>3</th>\n",
       "      <td>Jhope</td>\n",
       "      <td>Crush</td>\n",
       "    </tr>\n",
       "    <tr>\n",
       "      <th>4</th>\n",
       "      <td>Jimin</td>\n",
       "      <td>Crush</td>\n",
       "    </tr>\n",
       "    <tr>\n",
       "      <th>5</th>\n",
       "      <td>V</td>\n",
       "      <td>Crush</td>\n",
       "    </tr>\n",
       "    <tr>\n",
       "      <th>6</th>\n",
       "      <td>Jungkook</td>\n",
       "      <td>Fahad</td>\n",
       "    </tr>\n",
       "  </tbody>\n",
       "</table>\n",
       "</div>"
      ],
      "text/plain": [
       "       name     Collab\n",
       "0        RM    Youjeen\n",
       "1       Jin  Cold play\n",
       "2      Suga        PSY\n",
       "3     Jhope      Crush\n",
       "4     Jimin      Crush\n",
       "5         V      Crush\n",
       "6  Jungkook      Fahad"
      ]
     },
     "execution_count": 50,
     "metadata": {},
     "output_type": "execute_result"
    }
   ],
   "source": [
    "df.fillna(method='ffill',limit=2)"
   ]
  },
  {
   "cell_type": "code",
   "execution_count": 53,
   "id": "e33eae3a",
   "metadata": {},
   "outputs": [
    {
     "name": "stdout",
     "output_type": "stream",
     "text": [
      "     0    1    2    4\n",
      "0  1.0  6.5  3.0  1.0\n",
      "1  1.0  6.5  3.0  1.0\n",
      "2  NaN  NaN  NaN  NaN\n",
      "3  NaN  6.6  3.0  NaN\n",
      "     0    1    2    4\n",
      "0  1.0  6.5  3.0  1.0\n",
      "2  NaN  NaN  NaN  NaN\n",
      "3  NaN  6.6  3.0  NaN\n",
      "     0    1    2    4\n",
      "1  1.0  6.5  3.0  1.0\n",
      "2  NaN  NaN  NaN  NaN\n",
      "3  NaN  6.6  3.0  NaN\n"
     ]
    }
   ],
   "source": [
    "from numpy import nan as NA\n",
    "\n",
    "df=pd.DataFrame([[1,6.5,3.],[1,6.5,3.],[NA,NA,NA],[NA,6.6,3.]])\n",
    "df[4]=pd.Series([1,1.0,NA,NA])\n",
    "print(df)\n",
    "df1=df.drop_duplicates()\n",
    "print(df1)\n",
    "df1=df.drop_duplicates(keep='last')\n",
    "print(df1)"
   ]
  },
  {
   "cell_type": "code",
   "execution_count": 54,
   "id": "60fa10fe",
   "metadata": {},
   "outputs": [
    {
     "name": "stdout",
     "output_type": "stream",
     "text": [
      "          food  ounces\n",
      "0        bacon     4.0\n",
      "1  pulled pork     3.0\n",
      "2        bacon    12.0\n",
      "3     pastrami     6.0\n",
      "4  corned beef     7.5\n",
      "5        Bacon     8.0\n",
      "6     pastrami     3.0\n",
      "7    honey ham     5.0\n",
      "8     nova lox     6.0\n",
      "{'bacon': 'pig', 'pulled pork': 'pig', 'pastrami': 'cow', 'corned beef': 'cow', 'honey ham': 'pig', 'nova lox': 'salmon'}\n",
      "0          bacon\n",
      "1    pulled pork\n",
      "2          bacon\n",
      "3       pastrami\n",
      "4    corned beef\n",
      "5          bacon\n",
      "6       pastrami\n",
      "7      honey ham\n",
      "8       nova lox\n",
      "Name: food, dtype: object\n",
      "          food  ounces  animal\n",
      "0        bacon     4.0     pig\n",
      "1  pulled pork     3.0     pig\n",
      "2        bacon    12.0     pig\n",
      "3     pastrami     6.0     cow\n",
      "4  corned beef     7.5     cow\n",
      "5        Bacon     8.0     pig\n",
      "6     pastrami     3.0     cow\n",
      "7    honey ham     5.0     pig\n",
      "8     nova lox     6.0  salmon\n"
     ]
    }
   ],
   "source": [
    "import pandas as pd\n",
    "data=pd.DataFrame({'food':['bacon','pulled pork','bacon','pastrami','corned beef','Bacon',\n",
    "                          'pastrami','honey ham','nova lox'],\n",
    "                  'ounces':[4,3,12,6,7.5,8,3,5,6]})\n",
    "print(data)\n",
    "\n",
    "meat_to_animal={\n",
    "    'bacon':'pig',\n",
    "    'pulled pork': 'pig',\n",
    "    'pastrami': 'cow',\n",
    "    'corned beef': 'cow',\n",
    "    'honey ham': 'pig',\n",
    "    'nova lox': 'salmon'\n",
    "}\n",
    "print(meat_to_animal)\n",
    "\n",
    "lc=data['food'].str.lower()\n",
    "print(lc)\n",
    "data['animal']=lc.map(meat_to_animal)\n",
    "print(data)"
   ]
  },
  {
   "cell_type": "code",
   "execution_count": 67,
   "id": "e4e4ea81",
   "metadata": {},
   "outputs": [
    {
     "name": "stdout",
     "output_type": "stream",
     "text": [
      "       name Positions\n",
      "0        RM    Rapper\n",
      "1       Jin  Vocalist\n",
      "2      Suga    Rapper\n",
      "3     Jhope    Rapper\n",
      "4     Jimin  Vocalist\n",
      "5         V  Vocalist\n",
      "6  Jungkook  Vocalist\n"
     ]
    }
   ],
   "source": [
    "data  = pd.DataFrame({'name':['RM','Jin','Suga','Jhope','Jimin','V','Jungkook']})\n",
    "lc = data['name']\n",
    "positions = {'Jimin':'Vocalist','Jin':'Vocalist','RM':'Rapper',\n",
    "            'Jungkook':'Vocalist','Jhope':'Rapper','V':'Vocalist','Suga':'Rapper'}\n",
    "data['Positions']=lc.map(positions)\n",
    "print(data)"
   ]
  },
  {
   "cell_type": "code",
   "execution_count": 72,
   "id": "c50677d6",
   "metadata": {},
   "outputs": [
    {
     "name": "stdout",
     "output_type": "stream",
     "text": [
      "       name Positions\n",
      "0        RM       Rap\n",
      "1       Jin    Vocals\n",
      "2      Suga       Rap\n",
      "3     Jhope       Rap\n",
      "4     Jimin    Vocals\n",
      "5         V    Vocals\n",
      "6  Jungkook    Vocals\n",
      "\n",
      "       name Positions\n",
      "0        RM    Rapper\n",
      "1       Jin  Vocalist\n",
      "2      Suga    Rapper\n",
      "3     Jhope    Rapper\n",
      "4     Jimin  Vocalist\n",
      "5         V  Vocalist\n",
      "6  Jungkook  Vocalist\n"
     ]
    }
   ],
   "source": [
    "print(data.replace(['Vocalist','Rapper'],['Vocals','Rap']))\n",
    "print()\n",
    "print(data.replace(['Vocals','Rap'],['Vocalist','Rapper']))"
   ]
  },
  {
   "cell_type": "code",
   "execution_count": null,
   "id": "11115a77",
   "metadata": {},
   "outputs": [],
   "source": []
  }
 ],
 "metadata": {
  "kernelspec": {
   "display_name": "Python 3 (ipykernel)",
   "language": "python",
   "name": "python3"
  },
  "language_info": {
   "codemirror_mode": {
    "name": "ipython",
    "version": 3
   },
   "file_extension": ".py",
   "mimetype": "text/x-python",
   "name": "python",
   "nbconvert_exporter": "python",
   "pygments_lexer": "ipython3",
   "version": "3.9.7"
  }
 },
 "nbformat": 4,
 "nbformat_minor": 5
}
